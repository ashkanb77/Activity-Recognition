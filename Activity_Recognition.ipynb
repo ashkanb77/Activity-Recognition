{
  "nbformat": 4,
  "nbformat_minor": 0,
  "metadata": {
    "colab": {
      "name": "Activity_Recognition.ipynb",
      "provenance": [],
      "collapsed_sections": [],
      "mount_file_id": "1DpDuGDi_ac4mvkfEfh1UfnQ-GHxJe2F8",
      "authorship_tag": "ABX9TyPdjArJaALZ3j225ZcjeXN3",
      "include_colab_link": true
    },
    "kernelspec": {
      "name": "python3",
      "display_name": "Python 3"
    },
    "language_info": {
      "name": "python"
    },
    "accelerator": "GPU"
  },
  "cells": [
    {
      "cell_type": "markdown",
      "metadata": {
        "id": "view-in-github",
        "colab_type": "text"
      },
      "source": [
        "<a href=\"https://colab.research.google.com/github/ashkanb77/Activity-Recognition/blob/main/Activity_Recognition.ipynb\" target=\"_parent\"><img src=\"https://colab.research.google.com/assets/colab-badge.svg\" alt=\"Open In Colab\"/></a>"
      ]
    },
    {
      "cell_type": "code",
      "execution_count": null,
      "metadata": {
        "colab": {
          "base_uri": "https://localhost:8080/"
        },
        "id": "YOvCI-FFO9Xq",
        "outputId": "9c030f9d-7572-4e05-8d8c-ea29219f23c9"
      },
      "outputs": [
        {
          "output_type": "stream",
          "name": "stdout",
          "text": [
            "--2022-02-14 17:57:05--  http://archive.ics.uci.edu/ml/machine-learning-databases/00506/casas-dataset.zip\n",
            "Resolving archive.ics.uci.edu (archive.ics.uci.edu)... 128.195.10.252\n",
            "Connecting to archive.ics.uci.edu (archive.ics.uci.edu)|128.195.10.252|:80... connected.\n",
            "HTTP request sent, awaiting response... 200 OK\n",
            "Length: 13952153033 (13G) [application/x-httpd-php]\n",
            "Saving to: ‘casas-dataset.zip’\n",
            "\n",
            "casas-dataset.zip   100%[===================>]  12.99G  44.0MB/s    in 5m 2s   \n",
            "\n",
            "2022-02-14 18:02:07 (44.0 MB/s) - ‘casas-dataset.zip’ saved [13952153033/13952153033]\n",
            "\n"
          ]
        }
      ],
      "source": [
        "!wget http://archive.ics.uci.edu/ml/machine-learning-databases/00506/casas-dataset.zip"
      ]
    },
    {
      "cell_type": "code",
      "source": [
        "import os\n",
        "import shutil\n",
        "from tqdm import tqdm"
      ],
      "metadata": {
        "id": "AeQpyUn1YTnW"
      },
      "execution_count": null,
      "outputs": []
    },
    {
      "cell_type": "code",
      "source": [
        "zip_address = 'casas-dataset.zip'\n",
        "extracted_address = 'casas-dataset-extracted'\n",
        "unzip_command = '7z e {0} -o{1} {2} -x!{2}/{2}.rawdata.*'\n",
        "rm_command = 'rm -r {0}'\n",
        "\n",
        "try:\n",
        "    os.mkdir(extracted_address)\n",
        "except:\n",
        "    shutil.rmtree(extracted_address)\n",
        "    os.mkdir(extracted_address)\n",
        "\n",
        "os.system(f'7z e {zip_address} -o{extracted_address} README.txt')\n",
        "for i in tqdm(range(101, 131)):\n",
        "    os.system(unzip_command.format(zip_address, f'{extracted_address}/csh{i}', f'csh{i}'))\n",
        "    os.rmdir(f'{extracted_address}/csh{i}/csh{i}')"
      ],
      "metadata": {
        "colab": {
          "base_uri": "https://localhost:8080/"
        },
        "id": "V8YQVt4uaCcc",
        "outputId": "a2407a6c-6f20-47fd-8e0d-9242c6bbfb83"
      },
      "execution_count": null,
      "outputs": [
        {
          "output_type": "stream",
          "name": "stderr",
          "text": [
            "100%|██████████| 30/30 [00:48<00:00,  1.60s/it]\n"
          ]
        }
      ]
    },
    {
      "cell_type": "code",
      "source": [
        "import numpy as np\n",
        "import pandas as pd\n",
        "import matplotlib.pyplot as plt\n",
        "from collections import deque\n",
        "from sklearn.preprocessing import StandardScaler\n",
        "from sklearn.feature_selection import SelectKBest\n"
      ],
      "metadata": {
        "id": "k-Va4VvKaz06"
      },
      "execution_count": 1,
      "outputs": []
    },
    {
      "cell_type": "code",
      "source": [
        "dataset = pd.read_csv('drive/MyDrive/datasets/casas-dataset-extracted/csh111/csh111.ann.features.csv')"
      ],
      "metadata": {
        "id": "NrGI0ygmbrOI"
      },
      "execution_count": 75,
      "outputs": []
    },
    {
      "cell_type": "code",
      "source": [
        "dataset.head()"
      ],
      "metadata": {
        "colab": {
          "base_uri": "https://localhost:8080/",
          "height": 288
        },
        "id": "sriX52h7cEEI",
        "outputId": "3796e184-c2eb-454b-de11-517ecf9cce73"
      },
      "execution_count": 3,
      "outputs": [
        {
          "output_type": "execute_result",
          "data": {
            "text/html": [
              "\n",
              "  <div id=\"df-66cf8825-c31f-4b88-8489-ac85e692a6d0\">\n",
              "    <div class=\"colab-df-container\">\n",
              "      <div>\n",
              "<style scoped>\n",
              "    .dataframe tbody tr th:only-of-type {\n",
              "        vertical-align: middle;\n",
              "    }\n",
              "\n",
              "    .dataframe tbody tr th {\n",
              "        vertical-align: top;\n",
              "    }\n",
              "\n",
              "    .dataframe thead th {\n",
              "        text-align: right;\n",
              "    }\n",
              "</style>\n",
              "<table border=\"1\" class=\"dataframe\">\n",
              "  <thead>\n",
              "    <tr style=\"text-align: right;\">\n",
              "      <th></th>\n",
              "      <th>lastSensorEventHours</th>\n",
              "      <th>lastSensorEventSeconds</th>\n",
              "      <th>lastSensorDayOfWeek</th>\n",
              "      <th>windowDuration</th>\n",
              "      <th>timeSinceLastSensorEvent</th>\n",
              "      <th>prevDominantSensor1</th>\n",
              "      <th>prevDominantSensor2</th>\n",
              "      <th>lastSensorID</th>\n",
              "      <th>lastSensorLocation</th>\n",
              "      <th>lastMotionLocation</th>\n",
              "      <th>complexity</th>\n",
              "      <th>activityChange</th>\n",
              "      <th>areaTransitions</th>\n",
              "      <th>numDistinctSensors</th>\n",
              "      <th>sensorCount-Bathroom</th>\n",
              "      <th>sensorCount-Bedroom</th>\n",
              "      <th>sensorCount-Chair</th>\n",
              "      <th>sensorCount-DiningRoom</th>\n",
              "      <th>sensorCount-Hall</th>\n",
              "      <th>sensorCount-Ignore</th>\n",
              "      <th>sensorCount-Kitchen</th>\n",
              "      <th>sensorCount-LivingRoom</th>\n",
              "      <th>sensorCount-Office</th>\n",
              "      <th>sensorCount-OutsideDoor</th>\n",
              "      <th>sensorCount-WorkArea</th>\n",
              "      <th>sensorElTime-Bathroom</th>\n",
              "      <th>sensorElTime-Bedroom</th>\n",
              "      <th>sensorElTime-Chair</th>\n",
              "      <th>sensorElTime-DiningRoom</th>\n",
              "      <th>sensorElTime-Hall</th>\n",
              "      <th>sensorElTime-Ignore</th>\n",
              "      <th>sensorElTime-Kitchen</th>\n",
              "      <th>sensorElTime-LivingRoom</th>\n",
              "      <th>sensorElTime-Office</th>\n",
              "      <th>sensorElTime-OutsideDoor</th>\n",
              "      <th>sensorElTime-WorkArea</th>\n",
              "      <th>activity</th>\n",
              "    </tr>\n",
              "  </thead>\n",
              "  <tbody>\n",
              "    <tr>\n",
              "      <th>0</th>\n",
              "      <td>0.0</td>\n",
              "      <td>1258.0</td>\n",
              "      <td>2.0</td>\n",
              "      <td>698.0</td>\n",
              "      <td>1.0</td>\n",
              "      <td>0.0</td>\n",
              "      <td>0.0</td>\n",
              "      <td>1.0</td>\n",
              "      <td>1.0</td>\n",
              "      <td>1.0</td>\n",
              "      <td>0.650022</td>\n",
              "      <td>0.028653</td>\n",
              "      <td>0.0</td>\n",
              "      <td>0.0</td>\n",
              "      <td>0.0</td>\n",
              "      <td>28.62</td>\n",
              "      <td>0.0</td>\n",
              "      <td>0.0</td>\n",
              "      <td>0.0</td>\n",
              "      <td>5.73</td>\n",
              "      <td>0.0</td>\n",
              "      <td>0.0</td>\n",
              "      <td>0.0</td>\n",
              "      <td>0.0</td>\n",
              "      <td>0.0</td>\n",
              "      <td>86400.0</td>\n",
              "      <td>0.0</td>\n",
              "      <td>86400.0</td>\n",
              "      <td>86400.0</td>\n",
              "      <td>86400.0</td>\n",
              "      <td>1.571419</td>\n",
              "      <td>86400.0</td>\n",
              "      <td>86400.0</td>\n",
              "      <td>86400.0</td>\n",
              "      <td>86400.0</td>\n",
              "      <td>86400.0</td>\n",
              "      <td>Sleep</td>\n",
              "    </tr>\n",
              "    <tr>\n",
              "      <th>1</th>\n",
              "      <td>0.0</td>\n",
              "      <td>1260.0</td>\n",
              "      <td>2.0</td>\n",
              "      <td>699.0</td>\n",
              "      <td>2.0</td>\n",
              "      <td>0.0</td>\n",
              "      <td>0.0</td>\n",
              "      <td>1.0</td>\n",
              "      <td>1.0</td>\n",
              "      <td>1.0</td>\n",
              "      <td>0.650022</td>\n",
              "      <td>0.028612</td>\n",
              "      <td>0.0</td>\n",
              "      <td>0.0</td>\n",
              "      <td>0.0</td>\n",
              "      <td>28.57</td>\n",
              "      <td>0.0</td>\n",
              "      <td>0.0</td>\n",
              "      <td>0.0</td>\n",
              "      <td>5.78</td>\n",
              "      <td>0.0</td>\n",
              "      <td>0.0</td>\n",
              "      <td>0.0</td>\n",
              "      <td>0.0</td>\n",
              "      <td>0.0</td>\n",
              "      <td>86400.0</td>\n",
              "      <td>0.0</td>\n",
              "      <td>86400.0</td>\n",
              "      <td>86400.0</td>\n",
              "      <td>86400.0</td>\n",
              "      <td>2.852767</td>\n",
              "      <td>86400.0</td>\n",
              "      <td>86400.0</td>\n",
              "      <td>86400.0</td>\n",
              "      <td>86400.0</td>\n",
              "      <td>86400.0</td>\n",
              "      <td>Sleep</td>\n",
              "    </tr>\n",
              "    <tr>\n",
              "      <th>2</th>\n",
              "      <td>0.0</td>\n",
              "      <td>1282.0</td>\n",
              "      <td>2.0</td>\n",
              "      <td>720.0</td>\n",
              "      <td>22.0</td>\n",
              "      <td>0.0</td>\n",
              "      <td>0.0</td>\n",
              "      <td>1.0</td>\n",
              "      <td>1.0</td>\n",
              "      <td>1.0</td>\n",
              "      <td>0.650022</td>\n",
              "      <td>0.029167</td>\n",
              "      <td>0.0</td>\n",
              "      <td>0.0</td>\n",
              "      <td>0.0</td>\n",
              "      <td>28.52</td>\n",
              "      <td>0.0</td>\n",
              "      <td>0.0</td>\n",
              "      <td>0.0</td>\n",
              "      <td>5.83</td>\n",
              "      <td>0.0</td>\n",
              "      <td>0.0</td>\n",
              "      <td>0.0</td>\n",
              "      <td>0.0</td>\n",
              "      <td>0.0</td>\n",
              "      <td>86400.0</td>\n",
              "      <td>0.0</td>\n",
              "      <td>86400.0</td>\n",
              "      <td>86400.0</td>\n",
              "      <td>86400.0</td>\n",
              "      <td>25.571251</td>\n",
              "      <td>86400.0</td>\n",
              "      <td>86400.0</td>\n",
              "      <td>86400.0</td>\n",
              "      <td>86400.0</td>\n",
              "      <td>86400.0</td>\n",
              "      <td>Sleep</td>\n",
              "    </tr>\n",
              "    <tr>\n",
              "      <th>3</th>\n",
              "      <td>0.0</td>\n",
              "      <td>1283.0</td>\n",
              "      <td>2.0</td>\n",
              "      <td>719.0</td>\n",
              "      <td>1.0</td>\n",
              "      <td>0.0</td>\n",
              "      <td>0.0</td>\n",
              "      <td>1.0</td>\n",
              "      <td>1.0</td>\n",
              "      <td>1.0</td>\n",
              "      <td>0.650022</td>\n",
              "      <td>0.027816</td>\n",
              "      <td>0.0</td>\n",
              "      <td>0.0</td>\n",
              "      <td>0.0</td>\n",
              "      <td>28.47</td>\n",
              "      <td>0.0</td>\n",
              "      <td>0.0</td>\n",
              "      <td>0.0</td>\n",
              "      <td>5.88</td>\n",
              "      <td>0.0</td>\n",
              "      <td>0.0</td>\n",
              "      <td>0.0</td>\n",
              "      <td>0.0</td>\n",
              "      <td>0.0</td>\n",
              "      <td>86400.0</td>\n",
              "      <td>0.0</td>\n",
              "      <td>86400.0</td>\n",
              "      <td>86400.0</td>\n",
              "      <td>86400.0</td>\n",
              "      <td>26.665044</td>\n",
              "      <td>86400.0</td>\n",
              "      <td>86400.0</td>\n",
              "      <td>86400.0</td>\n",
              "      <td>86400.0</td>\n",
              "      <td>86400.0</td>\n",
              "      <td>Sleep</td>\n",
              "    </tr>\n",
              "    <tr>\n",
              "      <th>4</th>\n",
              "      <td>0.0</td>\n",
              "      <td>1329.0</td>\n",
              "      <td>2.0</td>\n",
              "      <td>756.0</td>\n",
              "      <td>46.0</td>\n",
              "      <td>0.0</td>\n",
              "      <td>0.0</td>\n",
              "      <td>1.0</td>\n",
              "      <td>1.0</td>\n",
              "      <td>1.0</td>\n",
              "      <td>0.650022</td>\n",
              "      <td>0.017196</td>\n",
              "      <td>0.0</td>\n",
              "      <td>0.0</td>\n",
              "      <td>0.0</td>\n",
              "      <td>28.42</td>\n",
              "      <td>0.0</td>\n",
              "      <td>0.0</td>\n",
              "      <td>0.0</td>\n",
              "      <td>5.93</td>\n",
              "      <td>0.0</td>\n",
              "      <td>0.0</td>\n",
              "      <td>0.0</td>\n",
              "      <td>0.0</td>\n",
              "      <td>0.0</td>\n",
              "      <td>86400.0</td>\n",
              "      <td>0.0</td>\n",
              "      <td>86400.0</td>\n",
              "      <td>86400.0</td>\n",
              "      <td>86400.0</td>\n",
              "      <td>72.605688</td>\n",
              "      <td>86400.0</td>\n",
              "      <td>86400.0</td>\n",
              "      <td>86400.0</td>\n",
              "      <td>86400.0</td>\n",
              "      <td>86400.0</td>\n",
              "      <td>Sleep</td>\n",
              "    </tr>\n",
              "  </tbody>\n",
              "</table>\n",
              "</div>\n",
              "      <button class=\"colab-df-convert\" onclick=\"convertToInteractive('df-66cf8825-c31f-4b88-8489-ac85e692a6d0')\"\n",
              "              title=\"Convert this dataframe to an interactive table.\"\n",
              "              style=\"display:none;\">\n",
              "        \n",
              "  <svg xmlns=\"http://www.w3.org/2000/svg\" height=\"24px\"viewBox=\"0 0 24 24\"\n",
              "       width=\"24px\">\n",
              "    <path d=\"M0 0h24v24H0V0z\" fill=\"none\"/>\n",
              "    <path d=\"M18.56 5.44l.94 2.06.94-2.06 2.06-.94-2.06-.94-.94-2.06-.94 2.06-2.06.94zm-11 1L8.5 8.5l.94-2.06 2.06-.94-2.06-.94L8.5 2.5l-.94 2.06-2.06.94zm10 10l.94 2.06.94-2.06 2.06-.94-2.06-.94-.94-2.06-.94 2.06-2.06.94z\"/><path d=\"M17.41 7.96l-1.37-1.37c-.4-.4-.92-.59-1.43-.59-.52 0-1.04.2-1.43.59L10.3 9.45l-7.72 7.72c-.78.78-.78 2.05 0 2.83L4 21.41c.39.39.9.59 1.41.59.51 0 1.02-.2 1.41-.59l7.78-7.78 2.81-2.81c.8-.78.8-2.07 0-2.86zM5.41 20L4 18.59l7.72-7.72 1.47 1.35L5.41 20z\"/>\n",
              "  </svg>\n",
              "      </button>\n",
              "      \n",
              "  <style>\n",
              "    .colab-df-container {\n",
              "      display:flex;\n",
              "      flex-wrap:wrap;\n",
              "      gap: 12px;\n",
              "    }\n",
              "\n",
              "    .colab-df-convert {\n",
              "      background-color: #E8F0FE;\n",
              "      border: none;\n",
              "      border-radius: 50%;\n",
              "      cursor: pointer;\n",
              "      display: none;\n",
              "      fill: #1967D2;\n",
              "      height: 32px;\n",
              "      padding: 0 0 0 0;\n",
              "      width: 32px;\n",
              "    }\n",
              "\n",
              "    .colab-df-convert:hover {\n",
              "      background-color: #E2EBFA;\n",
              "      box-shadow: 0px 1px 2px rgba(60, 64, 67, 0.3), 0px 1px 3px 1px rgba(60, 64, 67, 0.15);\n",
              "      fill: #174EA6;\n",
              "    }\n",
              "\n",
              "    [theme=dark] .colab-df-convert {\n",
              "      background-color: #3B4455;\n",
              "      fill: #D2E3FC;\n",
              "    }\n",
              "\n",
              "    [theme=dark] .colab-df-convert:hover {\n",
              "      background-color: #434B5C;\n",
              "      box-shadow: 0px 1px 3px 1px rgba(0, 0, 0, 0.15);\n",
              "      filter: drop-shadow(0px 1px 2px rgba(0, 0, 0, 0.3));\n",
              "      fill: #FFFFFF;\n",
              "    }\n",
              "  </style>\n",
              "\n",
              "      <script>\n",
              "        const buttonEl =\n",
              "          document.querySelector('#df-66cf8825-c31f-4b88-8489-ac85e692a6d0 button.colab-df-convert');\n",
              "        buttonEl.style.display =\n",
              "          google.colab.kernel.accessAllowed ? 'block' : 'none';\n",
              "\n",
              "        async function convertToInteractive(key) {\n",
              "          const element = document.querySelector('#df-66cf8825-c31f-4b88-8489-ac85e692a6d0');\n",
              "          const dataTable =\n",
              "            await google.colab.kernel.invokeFunction('convertToInteractive',\n",
              "                                                     [key], {});\n",
              "          if (!dataTable) return;\n",
              "\n",
              "          const docLinkHtml = 'Like what you see? Visit the ' +\n",
              "            '<a target=\"_blank\" href=https://colab.research.google.com/notebooks/data_table.ipynb>data table notebook</a>'\n",
              "            + ' to learn more about interactive tables.';\n",
              "          element.innerHTML = '';\n",
              "          dataTable['output_type'] = 'display_data';\n",
              "          await google.colab.output.renderOutput(dataTable, element);\n",
              "          const docLink = document.createElement('div');\n",
              "          docLink.innerHTML = docLinkHtml;\n",
              "          element.appendChild(docLink);\n",
              "        }\n",
              "      </script>\n",
              "    </div>\n",
              "  </div>\n",
              "  "
            ],
            "text/plain": [
              "   lastSensorEventHours  lastSensorEventSeconds  ...  sensorElTime-WorkArea  activity\n",
              "0                   0.0                  1258.0  ...                86400.0     Sleep\n",
              "1                   0.0                  1260.0  ...                86400.0     Sleep\n",
              "2                   0.0                  1282.0  ...                86400.0     Sleep\n",
              "3                   0.0                  1283.0  ...                86400.0     Sleep\n",
              "4                   0.0                  1329.0  ...                86400.0     Sleep\n",
              "\n",
              "[5 rows x 37 columns]"
            ]
          },
          "metadata": {},
          "execution_count": 3
        }
      ]
    },
    {
      "cell_type": "code",
      "source": [
        "len(dataset['activity'].unique())"
      ],
      "metadata": {
        "colab": {
          "base_uri": "https://localhost:8080/"
        },
        "id": "V3SFT8DMcG0I",
        "outputId": "1106c0da-2981-4828-e7c6-5d0948ae34b1"
      },
      "execution_count": 4,
      "outputs": [
        {
          "output_type": "execute_result",
          "data": {
            "text/plain": [
              "35"
            ]
          },
          "metadata": {},
          "execution_count": 4
        }
      ]
    },
    {
      "cell_type": "code",
      "source": [
        "dataset.info()"
      ],
      "metadata": {
        "colab": {
          "base_uri": "https://localhost:8080/"
        },
        "id": "ALcgdYuJcWGA",
        "outputId": "7996061c-e1f8-490c-a38b-86ca23bbaee8"
      },
      "execution_count": 5,
      "outputs": [
        {
          "output_type": "stream",
          "name": "stdout",
          "text": [
            "<class 'pandas.core.frame.DataFrame'>\n",
            "RangeIndex: 351324 entries, 0 to 351323\n",
            "Data columns (total 37 columns):\n",
            " #   Column                    Non-Null Count   Dtype  \n",
            "---  ------                    --------------   -----  \n",
            " 0   lastSensorEventHours      351324 non-null  float64\n",
            " 1   lastSensorEventSeconds    351324 non-null  float64\n",
            " 2   lastSensorDayOfWeek       351324 non-null  float64\n",
            " 3   windowDuration            351324 non-null  float64\n",
            " 4   timeSinceLastSensorEvent  351324 non-null  float64\n",
            " 5   prevDominantSensor1       351324 non-null  float64\n",
            " 6   prevDominantSensor2       351324 non-null  float64\n",
            " 7   lastSensorID              351324 non-null  float64\n",
            " 8   lastSensorLocation        351324 non-null  float64\n",
            " 9   lastMotionLocation        351324 non-null  float64\n",
            " 10  complexity                351324 non-null  float64\n",
            " 11  activityChange            351324 non-null  float64\n",
            " 12  areaTransitions           351324 non-null  float64\n",
            " 13  numDistinctSensors        351324 non-null  float64\n",
            " 14  sensorCount-Bathroom      351324 non-null  float64\n",
            " 15  sensorCount-Bedroom       351324 non-null  float64\n",
            " 16  sensorCount-Chair         351324 non-null  float64\n",
            " 17  sensorCount-DiningRoom    351324 non-null  float64\n",
            " 18  sensorCount-Hall          351324 non-null  float64\n",
            " 19  sensorCount-Ignore        351324 non-null  float64\n",
            " 20  sensorCount-Kitchen       351324 non-null  float64\n",
            " 21  sensorCount-LivingRoom    351324 non-null  float64\n",
            " 22  sensorCount-Office        351324 non-null  float64\n",
            " 23  sensorCount-OutsideDoor   351324 non-null  float64\n",
            " 24  sensorCount-WorkArea      351324 non-null  float64\n",
            " 25  sensorElTime-Bathroom     351324 non-null  float64\n",
            " 26  sensorElTime-Bedroom      351324 non-null  float64\n",
            " 27  sensorElTime-Chair        351324 non-null  float64\n",
            " 28  sensorElTime-DiningRoom   351324 non-null  float64\n",
            " 29  sensorElTime-Hall         351324 non-null  float64\n",
            " 30  sensorElTime-Ignore       351324 non-null  float64\n",
            " 31  sensorElTime-Kitchen      351324 non-null  float64\n",
            " 32  sensorElTime-LivingRoom   351324 non-null  float64\n",
            " 33  sensorElTime-Office       351324 non-null  float64\n",
            " 34  sensorElTime-OutsideDoor  351324 non-null  float64\n",
            " 35  sensorElTime-WorkArea     351324 non-null  float64\n",
            " 36  activity                  351324 non-null  object \n",
            "dtypes: float64(36), object(1)\n",
            "memory usage: 99.2+ MB\n"
          ]
        }
      ]
    },
    {
      "cell_type": "code",
      "source": [
        "dataset.isna().sum()"
      ],
      "metadata": {
        "colab": {
          "base_uri": "https://localhost:8080/"
        },
        "id": "ghv3HLzOccsI",
        "outputId": "86c40663-4bf4-4da5-dfff-5dd0687ad444"
      },
      "execution_count": 6,
      "outputs": [
        {
          "output_type": "execute_result",
          "data": {
            "text/plain": [
              "lastSensorEventHours        0\n",
              "lastSensorEventSeconds      0\n",
              "lastSensorDayOfWeek         0\n",
              "windowDuration              0\n",
              "timeSinceLastSensorEvent    0\n",
              "prevDominantSensor1         0\n",
              "prevDominantSensor2         0\n",
              "lastSensorID                0\n",
              "lastSensorLocation          0\n",
              "lastMotionLocation          0\n",
              "complexity                  0\n",
              "activityChange              0\n",
              "areaTransitions             0\n",
              "numDistinctSensors          0\n",
              "sensorCount-Bathroom        0\n",
              "sensorCount-Bedroom         0\n",
              "sensorCount-Chair           0\n",
              "sensorCount-DiningRoom      0\n",
              "sensorCount-Hall            0\n",
              "sensorCount-Ignore          0\n",
              "sensorCount-Kitchen         0\n",
              "sensorCount-LivingRoom      0\n",
              "sensorCount-Office          0\n",
              "sensorCount-OutsideDoor     0\n",
              "sensorCount-WorkArea        0\n",
              "sensorElTime-Bathroom       0\n",
              "sensorElTime-Bedroom        0\n",
              "sensorElTime-Chair          0\n",
              "sensorElTime-DiningRoom     0\n",
              "sensorElTime-Hall           0\n",
              "sensorElTime-Ignore         0\n",
              "sensorElTime-Kitchen        0\n",
              "sensorElTime-LivingRoom     0\n",
              "sensorElTime-Office         0\n",
              "sensorElTime-OutsideDoor    0\n",
              "sensorElTime-WorkArea       0\n",
              "activity                    0\n",
              "dtype: int64"
            ]
          },
          "metadata": {},
          "execution_count": 6
        }
      ]
    },
    {
      "cell_type": "code",
      "source": [
        "dataset.isnull().sum()"
      ],
      "metadata": {
        "colab": {
          "base_uri": "https://localhost:8080/"
        },
        "id": "0KC1berTjTZW",
        "outputId": "2a6a57b7-45e6-43a5-b07c-492b72615d98"
      },
      "execution_count": 7,
      "outputs": [
        {
          "output_type": "execute_result",
          "data": {
            "text/plain": [
              "lastSensorEventHours        0\n",
              "lastSensorEventSeconds      0\n",
              "lastSensorDayOfWeek         0\n",
              "windowDuration              0\n",
              "timeSinceLastSensorEvent    0\n",
              "prevDominantSensor1         0\n",
              "prevDominantSensor2         0\n",
              "lastSensorID                0\n",
              "lastSensorLocation          0\n",
              "lastMotionLocation          0\n",
              "complexity                  0\n",
              "activityChange              0\n",
              "areaTransitions             0\n",
              "numDistinctSensors          0\n",
              "sensorCount-Bathroom        0\n",
              "sensorCount-Bedroom         0\n",
              "sensorCount-Chair           0\n",
              "sensorCount-DiningRoom      0\n",
              "sensorCount-Hall            0\n",
              "sensorCount-Ignore          0\n",
              "sensorCount-Kitchen         0\n",
              "sensorCount-LivingRoom      0\n",
              "sensorCount-Office          0\n",
              "sensorCount-OutsideDoor     0\n",
              "sensorCount-WorkArea        0\n",
              "sensorElTime-Bathroom       0\n",
              "sensorElTime-Bedroom        0\n",
              "sensorElTime-Chair          0\n",
              "sensorElTime-DiningRoom     0\n",
              "sensorElTime-Hall           0\n",
              "sensorElTime-Ignore         0\n",
              "sensorElTime-Kitchen        0\n",
              "sensorElTime-LivingRoom     0\n",
              "sensorElTime-Office         0\n",
              "sensorElTime-OutsideDoor    0\n",
              "sensorElTime-WorkArea       0\n",
              "activity                    0\n",
              "dtype: int64"
            ]
          },
          "metadata": {},
          "execution_count": 7
        }
      ]
    },
    {
      "cell_type": "code",
      "source": [
        "skb = SelectKBest(k=10)\n",
        "dataset_values = skb.fit_transform(dataset.drop(['activity'], axis=1).values, dataset['activity'])"
      ],
      "metadata": {
        "colab": {
          "base_uri": "https://localhost:8080/"
        },
        "id": "_qH9aNCjF-yQ",
        "outputId": "7566d749-ed4f-484a-8aa8-18111d9e772d"
      },
      "execution_count": 76,
      "outputs": [
        {
          "output_type": "stream",
          "name": "stderr",
          "text": [
            "/usr/local/lib/python3.7/dist-packages/sklearn/feature_selection/_univariate_selection.py:112: UserWarning: Features [13 16 17 18 22 27 28 29 33] are constant.\n",
            "  warnings.warn(\"Features %s are constant.\" % constant_features_idx, UserWarning)\n",
            "/usr/local/lib/python3.7/dist-packages/sklearn/feature_selection/_univariate_selection.py:113: RuntimeWarning: invalid value encountered in true_divide\n",
            "  f = msb / msw\n"
          ]
        }
      ]
    },
    {
      "cell_type": "code",
      "source": [
        "dataset_values[0]"
      ],
      "metadata": {
        "colab": {
          "base_uri": "https://localhost:8080/"
        },
        "id": "S0GU2nySGtgy",
        "outputId": "735a9756-1c13-4642-f80c-4281c3cb6c83"
      },
      "execution_count": 9,
      "outputs": [
        {
          "output_type": "execute_result",
          "data": {
            "text/plain": [
              "array([ 0.  ,  1.  ,  1.  ,  1.  ,  0.  ,  0.  , 28.62,  0.  ,  0.  ,\n",
              "        0.  ])"
            ]
          },
          "metadata": {},
          "execution_count": 9
        }
      ]
    },
    {
      "cell_type": "code",
      "source": [
        "features = ['complexity', 'activityChange', 'areaTransitions', 'numDistinctSensors',\n",
        "            'sensorCount-Bathroom', 'sensorCount-Bedroom', 'sensorCount-Chair', 'sensorCount-DiningRoom',\n",
        "            'sensorCount-Hall', 'sensorCount-Ignore', 'sensorCount-Kitchen', \n",
        "            'sensorCount-LivingRoom', 'sensorCount-Office', 'sensorCount-OutsideDoor',\n",
        "            'sensorCount-WorkArea', 'sensorElTime-Bathroom', 'sensorElTime-Bedroom',\n",
        "            'sensorElTime-Chair', 'sensorElTime-DiningRoom', 'sensorElTime-Hall',\n",
        "            'sensorElTime-Ignore', 'sensorElTime-Kitchen', 'sensorElTime-LivingRoom',\n",
        "            'sensorElTime-Office', 'sensorElTime-OutsideDoor', 'sensorElTime-WorkArea',\n",
        "            'activity']"
      ],
      "metadata": {
        "id": "hVOAFNnhjXQp"
      },
      "execution_count": 8,
      "outputs": []
    },
    {
      "cell_type": "code",
      "source": [
        "features"
      ],
      "metadata": {
        "colab": {
          "base_uri": "https://localhost:8080/"
        },
        "id": "Br7VvC9UEEEK",
        "outputId": "6a552d94-3e05-4f1e-c973-71c6f6a57e91"
      },
      "execution_count": 9,
      "outputs": [
        {
          "output_type": "execute_result",
          "data": {
            "text/plain": [
              "['complexity',\n",
              " 'activityChange',\n",
              " 'areaTransitions',\n",
              " 'numDistinctSensors',\n",
              " 'sensorCount-Bathroom',\n",
              " 'sensorCount-Bedroom',\n",
              " 'sensorCount-Chair',\n",
              " 'sensorCount-DiningRoom',\n",
              " 'sensorCount-Hall',\n",
              " 'sensorCount-Ignore',\n",
              " 'sensorCount-Kitchen',\n",
              " 'sensorCount-LivingRoom',\n",
              " 'sensorCount-Office',\n",
              " 'sensorCount-OutsideDoor',\n",
              " 'sensorCount-WorkArea',\n",
              " 'sensorElTime-Bathroom',\n",
              " 'sensorElTime-Bedroom',\n",
              " 'sensorElTime-Chair',\n",
              " 'sensorElTime-DiningRoom',\n",
              " 'sensorElTime-Hall',\n",
              " 'sensorElTime-Ignore',\n",
              " 'sensorElTime-Kitchen',\n",
              " 'sensorElTime-LivingRoom',\n",
              " 'sensorElTime-Office',\n",
              " 'sensorElTime-OutsideDoor',\n",
              " 'sensorElTime-WorkArea',\n",
              " 'activity']"
            ]
          },
          "metadata": {},
          "execution_count": 9
        }
      ]
    },
    {
      "cell_type": "code",
      "source": [
        "dataset.head()"
      ],
      "metadata": {
        "colab": {
          "base_uri": "https://localhost:8080/",
          "height": 288
        },
        "id": "lIar0LdNDzaA",
        "outputId": "1fa78921-092f-4f57-9b2d-3b4e2c5f94c5"
      },
      "execution_count": 11,
      "outputs": [
        {
          "output_type": "execute_result",
          "data": {
            "text/html": [
              "\n",
              "  <div id=\"df-73b64448-c728-4542-aa84-521000f7e2b1\">\n",
              "    <div class=\"colab-df-container\">\n",
              "      <div>\n",
              "<style scoped>\n",
              "    .dataframe tbody tr th:only-of-type {\n",
              "        vertical-align: middle;\n",
              "    }\n",
              "\n",
              "    .dataframe tbody tr th {\n",
              "        vertical-align: top;\n",
              "    }\n",
              "\n",
              "    .dataframe thead th {\n",
              "        text-align: right;\n",
              "    }\n",
              "</style>\n",
              "<table border=\"1\" class=\"dataframe\">\n",
              "  <thead>\n",
              "    <tr style=\"text-align: right;\">\n",
              "      <th></th>\n",
              "      <th>lastSensorEventHours</th>\n",
              "      <th>lastSensorEventSeconds</th>\n",
              "      <th>lastSensorDayOfWeek</th>\n",
              "      <th>windowDuration</th>\n",
              "      <th>timeSinceLastSensorEvent</th>\n",
              "      <th>prevDominantSensor1</th>\n",
              "      <th>prevDominantSensor2</th>\n",
              "      <th>lastSensorID</th>\n",
              "      <th>lastSensorLocation</th>\n",
              "      <th>lastMotionLocation</th>\n",
              "      <th>complexity</th>\n",
              "      <th>activityChange</th>\n",
              "      <th>areaTransitions</th>\n",
              "      <th>numDistinctSensors</th>\n",
              "      <th>sensorCount-Bathroom</th>\n",
              "      <th>sensorCount-Bedroom</th>\n",
              "      <th>sensorCount-Chair</th>\n",
              "      <th>sensorCount-DiningRoom</th>\n",
              "      <th>sensorCount-Hall</th>\n",
              "      <th>sensorCount-Ignore</th>\n",
              "      <th>sensorCount-Kitchen</th>\n",
              "      <th>sensorCount-LivingRoom</th>\n",
              "      <th>sensorCount-Office</th>\n",
              "      <th>sensorCount-OutsideDoor</th>\n",
              "      <th>sensorCount-WorkArea</th>\n",
              "      <th>sensorElTime-Bathroom</th>\n",
              "      <th>sensorElTime-Bedroom</th>\n",
              "      <th>sensorElTime-Chair</th>\n",
              "      <th>sensorElTime-DiningRoom</th>\n",
              "      <th>sensorElTime-Hall</th>\n",
              "      <th>sensorElTime-Ignore</th>\n",
              "      <th>sensorElTime-Kitchen</th>\n",
              "      <th>sensorElTime-LivingRoom</th>\n",
              "      <th>sensorElTime-Office</th>\n",
              "      <th>sensorElTime-OutsideDoor</th>\n",
              "      <th>sensorElTime-WorkArea</th>\n",
              "      <th>activity</th>\n",
              "    </tr>\n",
              "  </thead>\n",
              "  <tbody>\n",
              "    <tr>\n",
              "      <th>0</th>\n",
              "      <td>2.0</td>\n",
              "      <td>8542.0</td>\n",
              "      <td>2.0</td>\n",
              "      <td>8205.0</td>\n",
              "      <td>0.0</td>\n",
              "      <td>0.0</td>\n",
              "      <td>0.0</td>\n",
              "      <td>7.0</td>\n",
              "      <td>7.0</td>\n",
              "      <td>7.0</td>\n",
              "      <td>1.505823</td>\n",
              "      <td>0.747959</td>\n",
              "      <td>5.0</td>\n",
              "      <td>0.0</td>\n",
              "      <td>0.0</td>\n",
              "      <td>11.31</td>\n",
              "      <td>0.0</td>\n",
              "      <td>0.0</td>\n",
              "      <td>0.0</td>\n",
              "      <td>16.83</td>\n",
              "      <td>0.0</td>\n",
              "      <td>6.21</td>\n",
              "      <td>0.0</td>\n",
              "      <td>0.0</td>\n",
              "      <td>0.0</td>\n",
              "      <td>86400.0</td>\n",
              "      <td>1.337411</td>\n",
              "      <td>86400.0</td>\n",
              "      <td>86400.0</td>\n",
              "      <td>86400.0</td>\n",
              "      <td>877.777933</td>\n",
              "      <td>86400.0</td>\n",
              "      <td>0.0</td>\n",
              "      <td>86400.0</td>\n",
              "      <td>86400.0</td>\n",
              "      <td>86400.0</td>\n",
              "      <td>Other_Activity</td>\n",
              "    </tr>\n",
              "    <tr>\n",
              "      <th>1</th>\n",
              "      <td>2.0</td>\n",
              "      <td>8546.0</td>\n",
              "      <td>2.0</td>\n",
              "      <td>8153.0</td>\n",
              "      <td>4.0</td>\n",
              "      <td>0.0</td>\n",
              "      <td>0.0</td>\n",
              "      <td>7.0</td>\n",
              "      <td>7.0</td>\n",
              "      <td>7.0</td>\n",
              "      <td>1.541008</td>\n",
              "      <td>0.818840</td>\n",
              "      <td>5.0</td>\n",
              "      <td>0.0</td>\n",
              "      <td>0.0</td>\n",
              "      <td>11.41</td>\n",
              "      <td>0.0</td>\n",
              "      <td>0.0</td>\n",
              "      <td>0.0</td>\n",
              "      <td>15.67</td>\n",
              "      <td>0.0</td>\n",
              "      <td>7.27</td>\n",
              "      <td>0.0</td>\n",
              "      <td>0.0</td>\n",
              "      <td>0.0</td>\n",
              "      <td>86400.0</td>\n",
              "      <td>5.120666</td>\n",
              "      <td>86400.0</td>\n",
              "      <td>86400.0</td>\n",
              "      <td>86400.0</td>\n",
              "      <td>881.561188</td>\n",
              "      <td>86400.0</td>\n",
              "      <td>0.0</td>\n",
              "      <td>86400.0</td>\n",
              "      <td>86400.0</td>\n",
              "      <td>86400.0</td>\n",
              "      <td>Other_Activity</td>\n",
              "    </tr>\n",
              "    <tr>\n",
              "      <th>2</th>\n",
              "      <td>2.0</td>\n",
              "      <td>8547.0</td>\n",
              "      <td>2.0</td>\n",
              "      <td>7653.0</td>\n",
              "      <td>1.0</td>\n",
              "      <td>0.0</td>\n",
              "      <td>0.0</td>\n",
              "      <td>7.0</td>\n",
              "      <td>7.0</td>\n",
              "      <td>7.0</td>\n",
              "      <td>1.565596</td>\n",
              "      <td>0.884620</td>\n",
              "      <td>5.0</td>\n",
              "      <td>0.0</td>\n",
              "      <td>0.0</td>\n",
              "      <td>11.51</td>\n",
              "      <td>0.0</td>\n",
              "      <td>0.0</td>\n",
              "      <td>0.0</td>\n",
              "      <td>14.50</td>\n",
              "      <td>0.0</td>\n",
              "      <td>8.34</td>\n",
              "      <td>0.0</td>\n",
              "      <td>0.0</td>\n",
              "      <td>0.0</td>\n",
              "      <td>86400.0</td>\n",
              "      <td>6.568774</td>\n",
              "      <td>86400.0</td>\n",
              "      <td>86400.0</td>\n",
              "      <td>86400.0</td>\n",
              "      <td>883.009296</td>\n",
              "      <td>86400.0</td>\n",
              "      <td>0.0</td>\n",
              "      <td>86400.0</td>\n",
              "      <td>86400.0</td>\n",
              "      <td>86400.0</td>\n",
              "      <td>Other_Activity</td>\n",
              "    </tr>\n",
              "    <tr>\n",
              "      <th>3</th>\n",
              "      <td>2.0</td>\n",
              "      <td>8551.0</td>\n",
              "      <td>2.0</td>\n",
              "      <td>7657.0</td>\n",
              "      <td>4.0</td>\n",
              "      <td>0.0</td>\n",
              "      <td>0.0</td>\n",
              "      <td>7.0</td>\n",
              "      <td>7.0</td>\n",
              "      <td>7.0</td>\n",
              "      <td>1.580145</td>\n",
              "      <td>0.995037</td>\n",
              "      <td>5.0</td>\n",
              "      <td>0.0</td>\n",
              "      <td>0.0</td>\n",
              "      <td>11.61</td>\n",
              "      <td>0.0</td>\n",
              "      <td>0.0</td>\n",
              "      <td>0.0</td>\n",
              "      <td>13.32</td>\n",
              "      <td>0.0</td>\n",
              "      <td>9.42</td>\n",
              "      <td>0.0</td>\n",
              "      <td>0.0</td>\n",
              "      <td>0.0</td>\n",
              "      <td>86400.0</td>\n",
              "      <td>9.850069</td>\n",
              "      <td>86400.0</td>\n",
              "      <td>86400.0</td>\n",
              "      <td>86400.0</td>\n",
              "      <td>886.290591</td>\n",
              "      <td>86400.0</td>\n",
              "      <td>0.0</td>\n",
              "      <td>86400.0</td>\n",
              "      <td>86400.0</td>\n",
              "      <td>86400.0</td>\n",
              "      <td>Other_Activity</td>\n",
              "    </tr>\n",
              "    <tr>\n",
              "      <th>4</th>\n",
              "      <td>2.0</td>\n",
              "      <td>8551.0</td>\n",
              "      <td>2.0</td>\n",
              "      <td>7656.0</td>\n",
              "      <td>0.0</td>\n",
              "      <td>0.0</td>\n",
              "      <td>0.0</td>\n",
              "      <td>7.0</td>\n",
              "      <td>7.0</td>\n",
              "      <td>7.0</td>\n",
              "      <td>1.580145</td>\n",
              "      <td>0.995559</td>\n",
              "      <td>5.0</td>\n",
              "      <td>0.0</td>\n",
              "      <td>0.0</td>\n",
              "      <td>10.41</td>\n",
              "      <td>0.0</td>\n",
              "      <td>0.0</td>\n",
              "      <td>0.0</td>\n",
              "      <td>13.43</td>\n",
              "      <td>0.0</td>\n",
              "      <td>10.51</td>\n",
              "      <td>0.0</td>\n",
              "      <td>0.0</td>\n",
              "      <td>0.0</td>\n",
              "      <td>86400.0</td>\n",
              "      <td>10.135721</td>\n",
              "      <td>86400.0</td>\n",
              "      <td>86400.0</td>\n",
              "      <td>86400.0</td>\n",
              "      <td>886.576243</td>\n",
              "      <td>86400.0</td>\n",
              "      <td>0.0</td>\n",
              "      <td>86400.0</td>\n",
              "      <td>86400.0</td>\n",
              "      <td>86400.0</td>\n",
              "      <td>Other_Activity</td>\n",
              "    </tr>\n",
              "  </tbody>\n",
              "</table>\n",
              "</div>\n",
              "      <button class=\"colab-df-convert\" onclick=\"convertToInteractive('df-73b64448-c728-4542-aa84-521000f7e2b1')\"\n",
              "              title=\"Convert this dataframe to an interactive table.\"\n",
              "              style=\"display:none;\">\n",
              "        \n",
              "  <svg xmlns=\"http://www.w3.org/2000/svg\" height=\"24px\"viewBox=\"0 0 24 24\"\n",
              "       width=\"24px\">\n",
              "    <path d=\"M0 0h24v24H0V0z\" fill=\"none\"/>\n",
              "    <path d=\"M18.56 5.44l.94 2.06.94-2.06 2.06-.94-2.06-.94-.94-2.06-.94 2.06-2.06.94zm-11 1L8.5 8.5l.94-2.06 2.06-.94-2.06-.94L8.5 2.5l-.94 2.06-2.06.94zm10 10l.94 2.06.94-2.06 2.06-.94-2.06-.94-.94-2.06-.94 2.06-2.06.94z\"/><path d=\"M17.41 7.96l-1.37-1.37c-.4-.4-.92-.59-1.43-.59-.52 0-1.04.2-1.43.59L10.3 9.45l-7.72 7.72c-.78.78-.78 2.05 0 2.83L4 21.41c.39.39.9.59 1.41.59.51 0 1.02-.2 1.41-.59l7.78-7.78 2.81-2.81c.8-.78.8-2.07 0-2.86zM5.41 20L4 18.59l7.72-7.72 1.47 1.35L5.41 20z\"/>\n",
              "  </svg>\n",
              "      </button>\n",
              "      \n",
              "  <style>\n",
              "    .colab-df-container {\n",
              "      display:flex;\n",
              "      flex-wrap:wrap;\n",
              "      gap: 12px;\n",
              "    }\n",
              "\n",
              "    .colab-df-convert {\n",
              "      background-color: #E8F0FE;\n",
              "      border: none;\n",
              "      border-radius: 50%;\n",
              "      cursor: pointer;\n",
              "      display: none;\n",
              "      fill: #1967D2;\n",
              "      height: 32px;\n",
              "      padding: 0 0 0 0;\n",
              "      width: 32px;\n",
              "    }\n",
              "\n",
              "    .colab-df-convert:hover {\n",
              "      background-color: #E2EBFA;\n",
              "      box-shadow: 0px 1px 2px rgba(60, 64, 67, 0.3), 0px 1px 3px 1px rgba(60, 64, 67, 0.15);\n",
              "      fill: #174EA6;\n",
              "    }\n",
              "\n",
              "    [theme=dark] .colab-df-convert {\n",
              "      background-color: #3B4455;\n",
              "      fill: #D2E3FC;\n",
              "    }\n",
              "\n",
              "    [theme=dark] .colab-df-convert:hover {\n",
              "      background-color: #434B5C;\n",
              "      box-shadow: 0px 1px 3px 1px rgba(0, 0, 0, 0.15);\n",
              "      filter: drop-shadow(0px 1px 2px rgba(0, 0, 0, 0.3));\n",
              "      fill: #FFFFFF;\n",
              "    }\n",
              "  </style>\n",
              "\n",
              "      <script>\n",
              "        const buttonEl =\n",
              "          document.querySelector('#df-73b64448-c728-4542-aa84-521000f7e2b1 button.colab-df-convert');\n",
              "        buttonEl.style.display =\n",
              "          google.colab.kernel.accessAllowed ? 'block' : 'none';\n",
              "\n",
              "        async function convertToInteractive(key) {\n",
              "          const element = document.querySelector('#df-73b64448-c728-4542-aa84-521000f7e2b1');\n",
              "          const dataTable =\n",
              "            await google.colab.kernel.invokeFunction('convertToInteractive',\n",
              "                                                     [key], {});\n",
              "          if (!dataTable) return;\n",
              "\n",
              "          const docLinkHtml = 'Like what you see? Visit the ' +\n",
              "            '<a target=\"_blank\" href=https://colab.research.google.com/notebooks/data_table.ipynb>data table notebook</a>'\n",
              "            + ' to learn more about interactive tables.';\n",
              "          element.innerHTML = '';\n",
              "          dataTable['output_type'] = 'display_data';\n",
              "          await google.colab.output.renderOutput(dataTable, element);\n",
              "          const docLink = document.createElement('div');\n",
              "          docLink.innerHTML = docLinkHtml;\n",
              "          element.appendChild(docLink);\n",
              "        }\n",
              "      </script>\n",
              "    </div>\n",
              "  </div>\n",
              "  "
            ],
            "text/plain": [
              "   lastSensorEventHours  ...        activity\n",
              "0                   2.0  ...  Other_Activity\n",
              "1                   2.0  ...  Other_Activity\n",
              "2                   2.0  ...  Other_Activity\n",
              "3                   2.0  ...  Other_Activity\n",
              "4                   2.0  ...  Other_Activity\n",
              "\n",
              "[5 rows x 37 columns]"
            ]
          },
          "metadata": {},
          "execution_count": 11
        }
      ]
    },
    {
      "cell_type": "code",
      "source": [
        "dataset = dataset.drop(['lastSensorEventHours', 'lastSensorEventSeconds', 'lastSensorDayOfWeek'], axis=1)\n",
        "dataset"
      ],
      "metadata": {
        "colab": {
          "base_uri": "https://localhost:8080/",
          "height": 505
        },
        "id": "7sJ9I266EFyO",
        "outputId": "5d79392d-1787-4214-d42c-2eba7eb93c91"
      },
      "execution_count": 12,
      "outputs": [
        {
          "output_type": "execute_result",
          "data": {
            "text/html": [
              "\n",
              "  <div id=\"df-350affe4-5ccb-425e-a0b0-8de894f99eda\">\n",
              "    <div class=\"colab-df-container\">\n",
              "      <div>\n",
              "<style scoped>\n",
              "    .dataframe tbody tr th:only-of-type {\n",
              "        vertical-align: middle;\n",
              "    }\n",
              "\n",
              "    .dataframe tbody tr th {\n",
              "        vertical-align: top;\n",
              "    }\n",
              "\n",
              "    .dataframe thead th {\n",
              "        text-align: right;\n",
              "    }\n",
              "</style>\n",
              "<table border=\"1\" class=\"dataframe\">\n",
              "  <thead>\n",
              "    <tr style=\"text-align: right;\">\n",
              "      <th></th>\n",
              "      <th>windowDuration</th>\n",
              "      <th>timeSinceLastSensorEvent</th>\n",
              "      <th>prevDominantSensor1</th>\n",
              "      <th>prevDominantSensor2</th>\n",
              "      <th>lastSensorID</th>\n",
              "      <th>lastSensorLocation</th>\n",
              "      <th>lastMotionLocation</th>\n",
              "      <th>complexity</th>\n",
              "      <th>activityChange</th>\n",
              "      <th>areaTransitions</th>\n",
              "      <th>numDistinctSensors</th>\n",
              "      <th>sensorCount-Bathroom</th>\n",
              "      <th>sensorCount-Bedroom</th>\n",
              "      <th>sensorCount-Chair</th>\n",
              "      <th>sensorCount-DiningRoom</th>\n",
              "      <th>sensorCount-Hall</th>\n",
              "      <th>sensorCount-Ignore</th>\n",
              "      <th>sensorCount-Kitchen</th>\n",
              "      <th>sensorCount-LivingRoom</th>\n",
              "      <th>sensorCount-Office</th>\n",
              "      <th>sensorCount-OutsideDoor</th>\n",
              "      <th>sensorCount-WorkArea</th>\n",
              "      <th>sensorElTime-Bathroom</th>\n",
              "      <th>sensorElTime-Bedroom</th>\n",
              "      <th>sensorElTime-Chair</th>\n",
              "      <th>sensorElTime-DiningRoom</th>\n",
              "      <th>sensorElTime-Hall</th>\n",
              "      <th>sensorElTime-Ignore</th>\n",
              "      <th>sensorElTime-Kitchen</th>\n",
              "      <th>sensorElTime-LivingRoom</th>\n",
              "      <th>sensorElTime-Office</th>\n",
              "      <th>sensorElTime-OutsideDoor</th>\n",
              "      <th>sensorElTime-WorkArea</th>\n",
              "      <th>activity</th>\n",
              "    </tr>\n",
              "  </thead>\n",
              "  <tbody>\n",
              "    <tr>\n",
              "      <th>0</th>\n",
              "      <td>8205.0</td>\n",
              "      <td>0.0</td>\n",
              "      <td>0.0</td>\n",
              "      <td>0.0</td>\n",
              "      <td>7.0</td>\n",
              "      <td>7.0</td>\n",
              "      <td>7.0</td>\n",
              "      <td>1.505823</td>\n",
              "      <td>0.747959</td>\n",
              "      <td>5.0</td>\n",
              "      <td>0.0</td>\n",
              "      <td>0.00</td>\n",
              "      <td>11.31</td>\n",
              "      <td>0.0</td>\n",
              "      <td>0.0</td>\n",
              "      <td>0.0</td>\n",
              "      <td>16.83</td>\n",
              "      <td>0.00</td>\n",
              "      <td>6.21</td>\n",
              "      <td>0.0</td>\n",
              "      <td>0.00</td>\n",
              "      <td>0.0</td>\n",
              "      <td>86400.000000</td>\n",
              "      <td>1.337411</td>\n",
              "      <td>86400.0</td>\n",
              "      <td>86400.0</td>\n",
              "      <td>86400.0</td>\n",
              "      <td>877.777933</td>\n",
              "      <td>86400.000000</td>\n",
              "      <td>0.000000</td>\n",
              "      <td>86400.0</td>\n",
              "      <td>86400.000000</td>\n",
              "      <td>86400.0</td>\n",
              "      <td>Other_Activity</td>\n",
              "    </tr>\n",
              "    <tr>\n",
              "      <th>1</th>\n",
              "      <td>8153.0</td>\n",
              "      <td>4.0</td>\n",
              "      <td>0.0</td>\n",
              "      <td>0.0</td>\n",
              "      <td>7.0</td>\n",
              "      <td>7.0</td>\n",
              "      <td>7.0</td>\n",
              "      <td>1.541008</td>\n",
              "      <td>0.818840</td>\n",
              "      <td>5.0</td>\n",
              "      <td>0.0</td>\n",
              "      <td>0.00</td>\n",
              "      <td>11.41</td>\n",
              "      <td>0.0</td>\n",
              "      <td>0.0</td>\n",
              "      <td>0.0</td>\n",
              "      <td>15.67</td>\n",
              "      <td>0.00</td>\n",
              "      <td>7.27</td>\n",
              "      <td>0.0</td>\n",
              "      <td>0.00</td>\n",
              "      <td>0.0</td>\n",
              "      <td>86400.000000</td>\n",
              "      <td>5.120666</td>\n",
              "      <td>86400.0</td>\n",
              "      <td>86400.0</td>\n",
              "      <td>86400.0</td>\n",
              "      <td>881.561188</td>\n",
              "      <td>86400.000000</td>\n",
              "      <td>0.000000</td>\n",
              "      <td>86400.0</td>\n",
              "      <td>86400.000000</td>\n",
              "      <td>86400.0</td>\n",
              "      <td>Other_Activity</td>\n",
              "    </tr>\n",
              "    <tr>\n",
              "      <th>2</th>\n",
              "      <td>7653.0</td>\n",
              "      <td>1.0</td>\n",
              "      <td>0.0</td>\n",
              "      <td>0.0</td>\n",
              "      <td>7.0</td>\n",
              "      <td>7.0</td>\n",
              "      <td>7.0</td>\n",
              "      <td>1.565596</td>\n",
              "      <td>0.884620</td>\n",
              "      <td>5.0</td>\n",
              "      <td>0.0</td>\n",
              "      <td>0.00</td>\n",
              "      <td>11.51</td>\n",
              "      <td>0.0</td>\n",
              "      <td>0.0</td>\n",
              "      <td>0.0</td>\n",
              "      <td>14.50</td>\n",
              "      <td>0.00</td>\n",
              "      <td>8.34</td>\n",
              "      <td>0.0</td>\n",
              "      <td>0.00</td>\n",
              "      <td>0.0</td>\n",
              "      <td>86400.000000</td>\n",
              "      <td>6.568774</td>\n",
              "      <td>86400.0</td>\n",
              "      <td>86400.0</td>\n",
              "      <td>86400.0</td>\n",
              "      <td>883.009296</td>\n",
              "      <td>86400.000000</td>\n",
              "      <td>0.000000</td>\n",
              "      <td>86400.0</td>\n",
              "      <td>86400.000000</td>\n",
              "      <td>86400.0</td>\n",
              "      <td>Other_Activity</td>\n",
              "    </tr>\n",
              "    <tr>\n",
              "      <th>3</th>\n",
              "      <td>7657.0</td>\n",
              "      <td>4.0</td>\n",
              "      <td>0.0</td>\n",
              "      <td>0.0</td>\n",
              "      <td>7.0</td>\n",
              "      <td>7.0</td>\n",
              "      <td>7.0</td>\n",
              "      <td>1.580145</td>\n",
              "      <td>0.995037</td>\n",
              "      <td>5.0</td>\n",
              "      <td>0.0</td>\n",
              "      <td>0.00</td>\n",
              "      <td>11.61</td>\n",
              "      <td>0.0</td>\n",
              "      <td>0.0</td>\n",
              "      <td>0.0</td>\n",
              "      <td>13.32</td>\n",
              "      <td>0.00</td>\n",
              "      <td>9.42</td>\n",
              "      <td>0.0</td>\n",
              "      <td>0.00</td>\n",
              "      <td>0.0</td>\n",
              "      <td>86400.000000</td>\n",
              "      <td>9.850069</td>\n",
              "      <td>86400.0</td>\n",
              "      <td>86400.0</td>\n",
              "      <td>86400.0</td>\n",
              "      <td>886.290591</td>\n",
              "      <td>86400.000000</td>\n",
              "      <td>0.000000</td>\n",
              "      <td>86400.0</td>\n",
              "      <td>86400.000000</td>\n",
              "      <td>86400.0</td>\n",
              "      <td>Other_Activity</td>\n",
              "    </tr>\n",
              "    <tr>\n",
              "      <th>4</th>\n",
              "      <td>7656.0</td>\n",
              "      <td>0.0</td>\n",
              "      <td>0.0</td>\n",
              "      <td>0.0</td>\n",
              "      <td>7.0</td>\n",
              "      <td>7.0</td>\n",
              "      <td>7.0</td>\n",
              "      <td>1.580145</td>\n",
              "      <td>0.995559</td>\n",
              "      <td>5.0</td>\n",
              "      <td>0.0</td>\n",
              "      <td>0.00</td>\n",
              "      <td>10.41</td>\n",
              "      <td>0.0</td>\n",
              "      <td>0.0</td>\n",
              "      <td>0.0</td>\n",
              "      <td>13.43</td>\n",
              "      <td>0.00</td>\n",
              "      <td>10.51</td>\n",
              "      <td>0.0</td>\n",
              "      <td>0.00</td>\n",
              "      <td>0.0</td>\n",
              "      <td>86400.000000</td>\n",
              "      <td>10.135721</td>\n",
              "      <td>86400.0</td>\n",
              "      <td>86400.0</td>\n",
              "      <td>86400.0</td>\n",
              "      <td>886.576243</td>\n",
              "      <td>86400.000000</td>\n",
              "      <td>0.000000</td>\n",
              "      <td>86400.0</td>\n",
              "      <td>86400.000000</td>\n",
              "      <td>86400.0</td>\n",
              "      <td>Other_Activity</td>\n",
              "    </tr>\n",
              "    <tr>\n",
              "      <th>...</th>\n",
              "      <td>...</td>\n",
              "      <td>...</td>\n",
              "      <td>...</td>\n",
              "      <td>...</td>\n",
              "      <td>...</td>\n",
              "      <td>...</td>\n",
              "      <td>...</td>\n",
              "      <td>...</td>\n",
              "      <td>...</td>\n",
              "      <td>...</td>\n",
              "      <td>...</td>\n",
              "      <td>...</td>\n",
              "      <td>...</td>\n",
              "      <td>...</td>\n",
              "      <td>...</td>\n",
              "      <td>...</td>\n",
              "      <td>...</td>\n",
              "      <td>...</td>\n",
              "      <td>...</td>\n",
              "      <td>...</td>\n",
              "      <td>...</td>\n",
              "      <td>...</td>\n",
              "      <td>...</td>\n",
              "      <td>...</td>\n",
              "      <td>...</td>\n",
              "      <td>...</td>\n",
              "      <td>...</td>\n",
              "      <td>...</td>\n",
              "      <td>...</td>\n",
              "      <td>...</td>\n",
              "      <td>...</td>\n",
              "      <td>...</td>\n",
              "      <td>...</td>\n",
              "      <td>...</td>\n",
              "    </tr>\n",
              "    <tr>\n",
              "      <th>1097708</th>\n",
              "      <td>26.0</td>\n",
              "      <td>1.0</td>\n",
              "      <td>5.0</td>\n",
              "      <td>5.0</td>\n",
              "      <td>7.0</td>\n",
              "      <td>7.0</td>\n",
              "      <td>7.0</td>\n",
              "      <td>1.870634</td>\n",
              "      <td>0.269231</td>\n",
              "      <td>9.0</td>\n",
              "      <td>0.0</td>\n",
              "      <td>6.81</td>\n",
              "      <td>0.00</td>\n",
              "      <td>0.0</td>\n",
              "      <td>0.0</td>\n",
              "      <td>0.0</td>\n",
              "      <td>8.19</td>\n",
              "      <td>4.23</td>\n",
              "      <td>13.87</td>\n",
              "      <td>0.0</td>\n",
              "      <td>1.25</td>\n",
              "      <td>0.0</td>\n",
              "      <td>1.572204</td>\n",
              "      <td>86400.000000</td>\n",
              "      <td>86400.0</td>\n",
              "      <td>86400.0</td>\n",
              "      <td>86400.0</td>\n",
              "      <td>1.279134</td>\n",
              "      <td>1.224826</td>\n",
              "      <td>0.000000</td>\n",
              "      <td>86400.0</td>\n",
              "      <td>24.119827</td>\n",
              "      <td>86400.0</td>\n",
              "      <td>Entertain_Guests</td>\n",
              "    </tr>\n",
              "    <tr>\n",
              "      <th>1097709</th>\n",
              "      <td>25.0</td>\n",
              "      <td>1.0</td>\n",
              "      <td>5.0</td>\n",
              "      <td>5.0</td>\n",
              "      <td>7.0</td>\n",
              "      <td>7.0</td>\n",
              "      <td>7.0</td>\n",
              "      <td>1.870634</td>\n",
              "      <td>0.240000</td>\n",
              "      <td>9.0</td>\n",
              "      <td>0.0</td>\n",
              "      <td>6.87</td>\n",
              "      <td>0.00</td>\n",
              "      <td>0.0</td>\n",
              "      <td>0.0</td>\n",
              "      <td>0.0</td>\n",
              "      <td>8.26</td>\n",
              "      <td>4.27</td>\n",
              "      <td>13.69</td>\n",
              "      <td>0.0</td>\n",
              "      <td>1.26</td>\n",
              "      <td>0.0</td>\n",
              "      <td>2.716462</td>\n",
              "      <td>86400.000000</td>\n",
              "      <td>86400.0</td>\n",
              "      <td>86400.0</td>\n",
              "      <td>86400.0</td>\n",
              "      <td>2.423392</td>\n",
              "      <td>2.369084</td>\n",
              "      <td>0.000000</td>\n",
              "      <td>86400.0</td>\n",
              "      <td>25.264085</td>\n",
              "      <td>86400.0</td>\n",
              "      <td>Entertain_Guests</td>\n",
              "    </tr>\n",
              "    <tr>\n",
              "      <th>1097710</th>\n",
              "      <td>26.0</td>\n",
              "      <td>1.0</td>\n",
              "      <td>5.0</td>\n",
              "      <td>5.0</td>\n",
              "      <td>7.0</td>\n",
              "      <td>7.0</td>\n",
              "      <td>7.0</td>\n",
              "      <td>1.839152</td>\n",
              "      <td>0.269231</td>\n",
              "      <td>9.0</td>\n",
              "      <td>0.0</td>\n",
              "      <td>6.93</td>\n",
              "      <td>0.00</td>\n",
              "      <td>0.0</td>\n",
              "      <td>0.0</td>\n",
              "      <td>0.0</td>\n",
              "      <td>7.03</td>\n",
              "      <td>4.31</td>\n",
              "      <td>14.81</td>\n",
              "      <td>0.0</td>\n",
              "      <td>1.27</td>\n",
              "      <td>0.0</td>\n",
              "      <td>3.065141</td>\n",
              "      <td>86400.000000</td>\n",
              "      <td>86400.0</td>\n",
              "      <td>86400.0</td>\n",
              "      <td>86400.0</td>\n",
              "      <td>2.772071</td>\n",
              "      <td>2.717763</td>\n",
              "      <td>0.000000</td>\n",
              "      <td>86400.0</td>\n",
              "      <td>25.612764</td>\n",
              "      <td>86400.0</td>\n",
              "      <td>Entertain_Guests</td>\n",
              "    </tr>\n",
              "    <tr>\n",
              "      <th>1097711</th>\n",
              "      <td>26.0</td>\n",
              "      <td>0.0</td>\n",
              "      <td>5.0</td>\n",
              "      <td>5.0</td>\n",
              "      <td>6.0</td>\n",
              "      <td>6.0</td>\n",
              "      <td>6.0</td>\n",
              "      <td>1.888370</td>\n",
              "      <td>0.307692</td>\n",
              "      <td>10.0</td>\n",
              "      <td>0.0</td>\n",
              "      <td>6.99</td>\n",
              "      <td>0.00</td>\n",
              "      <td>0.0</td>\n",
              "      <td>0.0</td>\n",
              "      <td>0.0</td>\n",
              "      <td>7.09</td>\n",
              "      <td>5.35</td>\n",
              "      <td>13.64</td>\n",
              "      <td>0.0</td>\n",
              "      <td>1.28</td>\n",
              "      <td>0.0</td>\n",
              "      <td>3.301334</td>\n",
              "      <td>86400.000000</td>\n",
              "      <td>86400.0</td>\n",
              "      <td>86400.0</td>\n",
              "      <td>86400.0</td>\n",
              "      <td>3.008264</td>\n",
              "      <td>0.000000</td>\n",
              "      <td>0.236193</td>\n",
              "      <td>86400.0</td>\n",
              "      <td>25.848957</td>\n",
              "      <td>86400.0</td>\n",
              "      <td>Entertain_Guests</td>\n",
              "    </tr>\n",
              "    <tr>\n",
              "      <th>1097712</th>\n",
              "      <td>26.0</td>\n",
              "      <td>0.0</td>\n",
              "      <td>5.0</td>\n",
              "      <td>5.0</td>\n",
              "      <td>0.0</td>\n",
              "      <td>0.0</td>\n",
              "      <td>0.0</td>\n",
              "      <td>1.880317</td>\n",
              "      <td>0.346154</td>\n",
              "      <td>11.0</td>\n",
              "      <td>0.0</td>\n",
              "      <td>8.05</td>\n",
              "      <td>0.00</td>\n",
              "      <td>0.0</td>\n",
              "      <td>0.0</td>\n",
              "      <td>0.0</td>\n",
              "      <td>5.85</td>\n",
              "      <td>5.40</td>\n",
              "      <td>13.76</td>\n",
              "      <td>0.0</td>\n",
              "      <td>1.29</td>\n",
              "      <td>0.0</td>\n",
              "      <td>0.000000</td>\n",
              "      <td>86400.000000</td>\n",
              "      <td>86400.0</td>\n",
              "      <td>86400.0</td>\n",
              "      <td>86400.0</td>\n",
              "      <td>3.408748</td>\n",
              "      <td>0.400484</td>\n",
              "      <td>0.636677</td>\n",
              "      <td>86400.0</td>\n",
              "      <td>26.249441</td>\n",
              "      <td>86400.0</td>\n",
              "      <td>Entertain_Guests</td>\n",
              "    </tr>\n",
              "  </tbody>\n",
              "</table>\n",
              "<p>1097713 rows × 34 columns</p>\n",
              "</div>\n",
              "      <button class=\"colab-df-convert\" onclick=\"convertToInteractive('df-350affe4-5ccb-425e-a0b0-8de894f99eda')\"\n",
              "              title=\"Convert this dataframe to an interactive table.\"\n",
              "              style=\"display:none;\">\n",
              "        \n",
              "  <svg xmlns=\"http://www.w3.org/2000/svg\" height=\"24px\"viewBox=\"0 0 24 24\"\n",
              "       width=\"24px\">\n",
              "    <path d=\"M0 0h24v24H0V0z\" fill=\"none\"/>\n",
              "    <path d=\"M18.56 5.44l.94 2.06.94-2.06 2.06-.94-2.06-.94-.94-2.06-.94 2.06-2.06.94zm-11 1L8.5 8.5l.94-2.06 2.06-.94-2.06-.94L8.5 2.5l-.94 2.06-2.06.94zm10 10l.94 2.06.94-2.06 2.06-.94-2.06-.94-.94-2.06-.94 2.06-2.06.94z\"/><path d=\"M17.41 7.96l-1.37-1.37c-.4-.4-.92-.59-1.43-.59-.52 0-1.04.2-1.43.59L10.3 9.45l-7.72 7.72c-.78.78-.78 2.05 0 2.83L4 21.41c.39.39.9.59 1.41.59.51 0 1.02-.2 1.41-.59l7.78-7.78 2.81-2.81c.8-.78.8-2.07 0-2.86zM5.41 20L4 18.59l7.72-7.72 1.47 1.35L5.41 20z\"/>\n",
              "  </svg>\n",
              "      </button>\n",
              "      \n",
              "  <style>\n",
              "    .colab-df-container {\n",
              "      display:flex;\n",
              "      flex-wrap:wrap;\n",
              "      gap: 12px;\n",
              "    }\n",
              "\n",
              "    .colab-df-convert {\n",
              "      background-color: #E8F0FE;\n",
              "      border: none;\n",
              "      border-radius: 50%;\n",
              "      cursor: pointer;\n",
              "      display: none;\n",
              "      fill: #1967D2;\n",
              "      height: 32px;\n",
              "      padding: 0 0 0 0;\n",
              "      width: 32px;\n",
              "    }\n",
              "\n",
              "    .colab-df-convert:hover {\n",
              "      background-color: #E2EBFA;\n",
              "      box-shadow: 0px 1px 2px rgba(60, 64, 67, 0.3), 0px 1px 3px 1px rgba(60, 64, 67, 0.15);\n",
              "      fill: #174EA6;\n",
              "    }\n",
              "\n",
              "    [theme=dark] .colab-df-convert {\n",
              "      background-color: #3B4455;\n",
              "      fill: #D2E3FC;\n",
              "    }\n",
              "\n",
              "    [theme=dark] .colab-df-convert:hover {\n",
              "      background-color: #434B5C;\n",
              "      box-shadow: 0px 1px 3px 1px rgba(0, 0, 0, 0.15);\n",
              "      filter: drop-shadow(0px 1px 2px rgba(0, 0, 0, 0.3));\n",
              "      fill: #FFFFFF;\n",
              "    }\n",
              "  </style>\n",
              "\n",
              "      <script>\n",
              "        const buttonEl =\n",
              "          document.querySelector('#df-350affe4-5ccb-425e-a0b0-8de894f99eda button.colab-df-convert');\n",
              "        buttonEl.style.display =\n",
              "          google.colab.kernel.accessAllowed ? 'block' : 'none';\n",
              "\n",
              "        async function convertToInteractive(key) {\n",
              "          const element = document.querySelector('#df-350affe4-5ccb-425e-a0b0-8de894f99eda');\n",
              "          const dataTable =\n",
              "            await google.colab.kernel.invokeFunction('convertToInteractive',\n",
              "                                                     [key], {});\n",
              "          if (!dataTable) return;\n",
              "\n",
              "          const docLinkHtml = 'Like what you see? Visit the ' +\n",
              "            '<a target=\"_blank\" href=https://colab.research.google.com/notebooks/data_table.ipynb>data table notebook</a>'\n",
              "            + ' to learn more about interactive tables.';\n",
              "          element.innerHTML = '';\n",
              "          dataTable['output_type'] = 'display_data';\n",
              "          await google.colab.output.renderOutput(dataTable, element);\n",
              "          const docLink = document.createElement('div');\n",
              "          docLink.innerHTML = docLinkHtml;\n",
              "          element.appendChild(docLink);\n",
              "        }\n",
              "      </script>\n",
              "    </div>\n",
              "  </div>\n",
              "  "
            ],
            "text/plain": [
              "         windowDuration  ...          activity\n",
              "0                8205.0  ...    Other_Activity\n",
              "1                8153.0  ...    Other_Activity\n",
              "2                7653.0  ...    Other_Activity\n",
              "3                7657.0  ...    Other_Activity\n",
              "4                7656.0  ...    Other_Activity\n",
              "...                 ...  ...               ...\n",
              "1097708            26.0  ...  Entertain_Guests\n",
              "1097709            25.0  ...  Entertain_Guests\n",
              "1097710            26.0  ...  Entertain_Guests\n",
              "1097711            26.0  ...  Entertain_Guests\n",
              "1097712            26.0  ...  Entertain_Guests\n",
              "\n",
              "[1097713 rows x 34 columns]"
            ]
          },
          "metadata": {},
          "execution_count": 12
        }
      ]
    },
    {
      "cell_type": "code",
      "source": [
        "m = 0\n",
        "s = 0\n",
        "r = dataset.values[0, -1]\n",
        "i = 0\n",
        "mi = 100\n",
        "for row in dataset.values:\n",
        "  if row[-1] == r:\n",
        "    m += 1\n",
        "  else:\n",
        "    s += m\n",
        "    mi = min(m, mi)\n",
        "    m = 0\n",
        "    i += 1\n",
        "    r = row[-1]"
      ],
      "metadata": {
        "id": "AYErU_yvK0w2"
      },
      "execution_count": 12,
      "outputs": []
    },
    {
      "cell_type": "code",
      "source": [
        "s / i"
      ],
      "metadata": {
        "colab": {
          "base_uri": "https://localhost:8080/"
        },
        "id": "sEUt7bG1SGqX",
        "outputId": "af7c98ed-2886-4be6-a62a-34e4fc10db67"
      },
      "execution_count": 13,
      "outputs": [
        {
          "output_type": "execute_result",
          "data": {
            "text/plain": [
              "36.293843854046344"
            ]
          },
          "metadata": {},
          "execution_count": 13
        }
      ]
    },
    {
      "cell_type": "code",
      "source": [
        "mi"
      ],
      "metadata": {
        "colab": {
          "base_uri": "https://localhost:8080/"
        },
        "id": "as1E9iZ7SI6r",
        "outputId": "a516cb31-da9a-4cd2-bc61-1e42855382ae"
      },
      "execution_count": 14,
      "outputs": [
        {
          "output_type": "execute_result",
          "data": {
            "text/plain": [
              "0"
            ]
          },
          "metadata": {},
          "execution_count": 14
        }
      ]
    },
    {
      "cell_type": "code",
      "source": [
        "scaler = StandardScaler()\n",
        "dataset_values = scaler.fit_transform(dataset_values)"
      ],
      "metadata": {
        "id": "FhqHQWrzJsP1"
      },
      "execution_count": 77,
      "outputs": []
    },
    {
      "cell_type": "code",
      "source": [
        "yy = dataset['activity'].values"
      ],
      "metadata": {
        "id": "tcxpOJb9NdKO"
      },
      "execution_count": 78,
      "outputs": []
    },
    {
      "cell_type": "code",
      "source": [
        "xx = np.hstack((np.expand_dims(np.arange(0, 30), 1), np.expand_dims(np.arange(0, 30), 1)))"
      ],
      "metadata": {
        "id": "kORUUlYbmi81"
      },
      "execution_count": 35,
      "outputs": []
    },
    {
      "cell_type": "code",
      "source": [
        "xx"
      ],
      "metadata": {
        "colab": {
          "base_uri": "https://localhost:8080/"
        },
        "id": "8JENh1K6mumd",
        "outputId": "aefefa76-10de-4145-e9cf-7505ac82387b"
      },
      "execution_count": 36,
      "outputs": [
        {
          "output_type": "execute_result",
          "data": {
            "text/plain": [
              "array([[ 0,  0],\n",
              "       [ 1,  1],\n",
              "       [ 2,  2],\n",
              "       [ 3,  3],\n",
              "       [ 4,  4],\n",
              "       [ 5,  5],\n",
              "       [ 6,  6],\n",
              "       [ 7,  7],\n",
              "       [ 8,  8],\n",
              "       [ 9,  9],\n",
              "       [10, 10],\n",
              "       [11, 11],\n",
              "       [12, 12],\n",
              "       [13, 13],\n",
              "       [14, 14],\n",
              "       [15, 15],\n",
              "       [16, 16],\n",
              "       [17, 17],\n",
              "       [18, 18],\n",
              "       [19, 19],\n",
              "       [20, 20],\n",
              "       [21, 21],\n",
              "       [22, 22],\n",
              "       [23, 23],\n",
              "       [24, 24],\n",
              "       [25, 25],\n",
              "       [26, 26],\n",
              "       [27, 27],\n",
              "       [28, 28],\n",
              "       [29, 29]])"
            ]
          },
          "metadata": {},
          "execution_count": 36
        }
      ]
    },
    {
      "cell_type": "code",
      "source": [
        "yy = np.arange(0, 30)"
      ],
      "metadata": {
        "id": "jFlC8q9sm_V4"
      },
      "execution_count": 37,
      "outputs": []
    },
    {
      "cell_type": "code",
      "source": [
        "yy"
      ],
      "metadata": {
        "colab": {
          "base_uri": "https://localhost:8080/"
        },
        "id": "eHZom-HPnD-L",
        "outputId": "cb824ecd-de41-4987-c7e9-31a497dee3f7"
      },
      "execution_count": 38,
      "outputs": [
        {
          "output_type": "execute_result",
          "data": {
            "text/plain": [
              "array([ 0,  1,  2,  3,  4,  5,  6,  7,  8,  9, 10, 11, 12, 13, 14, 15, 16,\n",
              "       17, 18, 19, 20, 21, 22, 23, 24, 25, 26, 27, 28, 29])"
            ]
          },
          "metadata": {},
          "execution_count": 38
        }
      ]
    },
    {
      "cell_type": "code",
      "source": [
        "d = deque(maxlen=15)\n",
        "X = []\n",
        "y = []\n",
        "for i in range(len(dataset_values)):\n",
        "  row = dataset_values[i]\n",
        "  d.append([j for j in row])  \n",
        "  if len(d) == 15:\n",
        "    X.append([j for j in d])\n",
        "    y.append(yy[i])\n",
        "    # print(f\"{X} ---> {y}\")\n",
        "    # break\n",
        "    # print(f\"{X[0]} ---> {d}\")\n"
      ],
      "metadata": {
        "id": "C9RuuGeHEK-a"
      },
      "execution_count": 79,
      "outputs": []
    },
    {
      "cell_type": "code",
      "source": [
        ""
      ],
      "metadata": {
        "colab": {
          "base_uri": "https://localhost:8080/"
        },
        "id": "dvqA4PlCn2Ir",
        "outputId": "4b061db4-3b29-4047-80b3-c9813d8db48c"
      },
      "execution_count": 89,
      "outputs": [
        {
          "output_type": "execute_result",
          "data": {
            "text/plain": [
              "[[3, 3],\n",
              " [4, 4],\n",
              " [5, 5],\n",
              " [6, 6],\n",
              " [7, 7],\n",
              " [8, 8],\n",
              " [9, 9],\n",
              " [10, 10],\n",
              " [11, 11],\n",
              " [12, 12]]"
            ]
          },
          "metadata": {},
          "execution_count": 89
        }
      ]
    },
    {
      "cell_type": "code",
      "source": [
        "X = np.array(X)\n",
        "y = np.array(y)"
      ],
      "metadata": {
        "id": "T7tfqMMHEQaz"
      },
      "execution_count": 80,
      "outputs": []
    },
    {
      "cell_type": "code",
      "source": [
        "X.shape"
      ],
      "metadata": {
        "colab": {
          "base_uri": "https://localhost:8080/"
        },
        "id": "lldq5vgkGkLQ",
        "outputId": "eb6cc377-9224-4710-d1d2-3a20be0b10f1"
      },
      "execution_count": 81,
      "outputs": [
        {
          "output_type": "execute_result",
          "data": {
            "text/plain": [
              "(351310, 15, 10)"
            ]
          },
          "metadata": {},
          "execution_count": 81
        }
      ]
    },
    {
      "cell_type": "code",
      "source": [
        "np.unique(y, return_counts=True)"
      ],
      "metadata": {
        "colab": {
          "base_uri": "https://localhost:8080/"
        },
        "id": "159asAu4GmFc",
        "outputId": "0cce3c90-06e4-48ad-ebab-94ddf29d3cde"
      },
      "execution_count": 16,
      "outputs": [
        {
          "output_type": "execute_result",
          "data": {
            "text/plain": [
              "(array(['Bathe', 'Bed_Toilet_Transition', 'Cook', 'Cook_Breakfast',\n",
              "        'Cook_Dinner', 'Cook_Lunch', 'Dress', 'Drink', 'Eat',\n",
              "        'Eat_Breakfast', 'Eat_Dinner', 'Eat_Lunch', 'Enter_Home',\n",
              "        'Entertain_Guests', 'Evening_Meds', 'Groom', 'Leave_Home',\n",
              "        'Morning_Meds', 'Other_Activity', 'Personal_Hygiene', 'Phone',\n",
              "        'Read', 'Relax', 'Sleep', 'Step_Out', 'Toilet',\n",
              "        'Wash_Breakfast_Dishes', 'Wash_Dinner_Dishes', 'Wash_Dishes',\n",
              "        'Wash_Lunch_Dishes', 'Watch_TV', 'Work', 'Work_At_Desk',\n",
              "        'Work_At_Table', 'Work_On_Computer'], dtype='<U21'),\n",
              " array([  1268,    987,    544,   2480,   4190,   1894,  11783,   3664,\n",
              "           372,   3100,    694,   1613,   1722,  75414,    920,   3289,\n",
              "          2072,    939, 112806,  10163,    521,  13583,   1208,  16547,\n",
              "           632,   6489,    894,   1022,   1597,    511,   9625,    926,\n",
              "           849,   1733,  55264]))"
            ]
          },
          "metadata": {},
          "execution_count": 16
        }
      ]
    },
    {
      "cell_type": "code",
      "source": [
        "y = pd.get_dummies(y).values"
      ],
      "metadata": {
        "id": "q9N6vjiKrJAk"
      },
      "execution_count": 82,
      "outputs": []
    },
    {
      "cell_type": "code",
      "source": [
        "y.shape"
      ],
      "metadata": {
        "colab": {
          "base_uri": "https://localhost:8080/"
        },
        "id": "iCMMg_ArrR_r",
        "outputId": "404bb613-cfe4-4d0a-abb7-fb9ee4857b94"
      },
      "execution_count": 83,
      "outputs": [
        {
          "output_type": "execute_result",
          "data": {
            "text/plain": [
              "(351310, 35)"
            ]
          },
          "metadata": {},
          "execution_count": 83
        }
      ]
    },
    {
      "cell_type": "code",
      "source": [
        "from sklearn.model_selection import train_test_split"
      ],
      "metadata": {
        "id": "b5nTr5O7HA-N"
      },
      "execution_count": 84,
      "outputs": []
    },
    {
      "cell_type": "code",
      "source": [
        "X_train, X_test, y_train, y_test = train_test_split(X, y, test_size=0.2)"
      ],
      "metadata": {
        "id": "vYp1ZTUxHX8b"
      },
      "execution_count": 85,
      "outputs": []
    },
    {
      "cell_type": "code",
      "source": [
        "from tensorflow.keras.models import Sequential\n",
        "from tensorflow.keras.layers import LSTM, Dense\n",
        "from tensorflow.keras.callbacks import ModelCheckpoint\n",
        "from tensorflow.keras.optimizers import Adam"
      ],
      "metadata": {
        "id": "1KjUwsMkHhpL"
      },
      "execution_count": 86,
      "outputs": []
    },
    {
      "cell_type": "code",
      "source": [
        "model = Sequential([\n",
        "                    LSTM(500,  input_shape=(X_train.shape[1:])),\n",
        "                    # LSTM(300),\n",
        "                    Dense(2000, 'tanh'),\n",
        "                    Dense(1000, 'tanh'),\n",
        "                    Dense(35, 'softmax', )\n",
        "])"
      ],
      "metadata": {
        "id": "Ea4Oe25yL236"
      },
      "execution_count": 87,
      "outputs": []
    },
    {
      "cell_type": "code",
      "source": [
        "model.summary()"
      ],
      "metadata": {
        "colab": {
          "base_uri": "https://localhost:8080/"
        },
        "id": "v8mWX_jnPDdd",
        "outputId": "13f021a8-2bdf-4067-a10b-1574fec32a27"
      },
      "execution_count": 88,
      "outputs": [
        {
          "output_type": "stream",
          "name": "stdout",
          "text": [
            "Model: \"sequential_7\"\n",
            "_________________________________________________________________\n",
            " Layer (type)                Output Shape              Param #   \n",
            "=================================================================\n",
            " lstm_7 (LSTM)               (None, 500)               1022000   \n",
            "                                                                 \n",
            " dense_21 (Dense)            (None, 2000)              1002000   \n",
            "                                                                 \n",
            " dense_22 (Dense)            (None, 1000)              2001000   \n",
            "                                                                 \n",
            " dense_23 (Dense)            (None, 35)                35035     \n",
            "                                                                 \n",
            "=================================================================\n",
            "Total params: 4,060,035\n",
            "Trainable params: 4,060,035\n",
            "Non-trainable params: 0\n",
            "_________________________________________________________________\n"
          ]
        }
      ]
    },
    {
      "cell_type": "code",
      "source": [
        "model.compile('adam', 'categorical_crossentropy', metrics=['accuracy'])"
      ],
      "metadata": {
        "id": "S5QajpIzPLQc"
      },
      "execution_count": 89,
      "outputs": []
    },
    {
      "cell_type": "code",
      "source": [
        "mchp = ModelCheckpoint('drive/MyDrive/datasets/casas-dataset-extracted/csh117/model.h5', save_best_only=True)"
      ],
      "metadata": {
        "id": "JZTGFvk8VLj-"
      },
      "execution_count": 90,
      "outputs": []
    },
    {
      "cell_type": "code",
      "source": [
        "history = model.fit(X_train, y_train, epochs=20, batch_size=500, validation_data=(X_test, y_test), callbacks=[mchp])"
      ],
      "metadata": {
        "colab": {
          "base_uri": "https://localhost:8080/"
        },
        "id": "uU91YVLWPEzz",
        "outputId": "68a32a2a-04e2-4830-8e7e-61aa090aac09"
      },
      "execution_count": 91,
      "outputs": [
        {
          "output_type": "stream",
          "name": "stdout",
          "text": [
            "Epoch 1/20\n",
            "563/563 [==============================] - 35s 58ms/step - loss: 1.2032 - accuracy: 0.6097 - val_loss: 1.0871 - val_accuracy: 0.6378\n",
            "Epoch 2/20\n",
            "563/563 [==============================] - 32s 57ms/step - loss: 1.0436 - accuracy: 0.6537 - val_loss: 1.0232 - val_accuracy: 0.6629\n",
            "Epoch 3/20\n",
            "563/563 [==============================] - 32s 56ms/step - loss: 0.9859 - accuracy: 0.6696 - val_loss: 0.9753 - val_accuracy: 0.6699\n",
            "Epoch 4/20\n",
            "563/563 [==============================] - 32s 56ms/step - loss: 0.9419 - accuracy: 0.6807 - val_loss: 0.9454 - val_accuracy: 0.6811\n",
            "Epoch 5/20\n",
            "563/563 [==============================] - 32s 56ms/step - loss: 0.8964 - accuracy: 0.6936 - val_loss: 0.8817 - val_accuracy: 0.6986\n",
            "Epoch 6/20\n",
            "563/563 [==============================] - 32s 56ms/step - loss: 0.8477 - accuracy: 0.7079 - val_loss: 0.8327 - val_accuracy: 0.7140\n",
            "Epoch 7/20\n",
            "563/563 [==============================] - 32s 57ms/step - loss: 0.7981 - accuracy: 0.7234 - val_loss: 0.7929 - val_accuracy: 0.7262\n",
            "Epoch 8/20\n",
            "563/563 [==============================] - 32s 56ms/step - loss: 0.7492 - accuracy: 0.7400 - val_loss: 0.7569 - val_accuracy: 0.7369\n",
            "Epoch 9/20\n",
            "563/563 [==============================] - 32s 56ms/step - loss: 0.7017 - accuracy: 0.7549 - val_loss: 0.7257 - val_accuracy: 0.7499\n",
            "Epoch 10/20\n",
            "563/563 [==============================] - 32s 56ms/step - loss: 0.6569 - accuracy: 0.7706 - val_loss: 0.6810 - val_accuracy: 0.7629\n",
            "Epoch 11/20\n",
            "563/563 [==============================] - 32s 57ms/step - loss: 0.6206 - accuracy: 0.7830 - val_loss: 0.6705 - val_accuracy: 0.7680\n",
            "Epoch 12/20\n",
            "563/563 [==============================] - 32s 56ms/step - loss: 0.5908 - accuracy: 0.7936 - val_loss: 0.6200 - val_accuracy: 0.7854\n",
            "Epoch 13/20\n",
            "563/563 [==============================] - 31s 55ms/step - loss: 0.5606 - accuracy: 0.8036 - val_loss: 0.6367 - val_accuracy: 0.7802\n",
            "Epoch 14/20\n",
            "563/563 [==============================] - 32s 56ms/step - loss: 0.5401 - accuracy: 0.8109 - val_loss: 0.6040 - val_accuracy: 0.7933\n",
            "Epoch 15/20\n",
            "563/563 [==============================] - 32s 56ms/step - loss: 0.5170 - accuracy: 0.8185 - val_loss: 0.5920 - val_accuracy: 0.7957\n",
            "Epoch 16/20\n",
            "563/563 [==============================] - 32s 56ms/step - loss: 0.4991 - accuracy: 0.8251 - val_loss: 0.5771 - val_accuracy: 0.8026\n",
            "Epoch 17/20\n",
            "563/563 [==============================] - 32s 56ms/step - loss: 0.4859 - accuracy: 0.8294 - val_loss: 0.5748 - val_accuracy: 0.8063\n",
            "Epoch 18/20\n",
            "563/563 [==============================] - 32s 56ms/step - loss: 0.4739 - accuracy: 0.8334 - val_loss: 0.5711 - val_accuracy: 0.8062\n",
            "Epoch 19/20\n",
            "563/563 [==============================] - 32s 56ms/step - loss: 0.4598 - accuracy: 0.8382 - val_loss: 0.5561 - val_accuracy: 0.8119\n",
            "Epoch 20/20\n",
            "563/563 [==============================] - 32s 56ms/step - loss: 0.4490 - accuracy: 0.8416 - val_loss: 0.5444 - val_accuracy: 0.8155\n"
          ]
        }
      ]
    },
    {
      "cell_type": "code",
      "source": [
        "history = model.fit(X_train, y_train, epochs=20, batch_size=500, validation_data=(X_test, y_test), callbacks=[mchp])"
      ],
      "metadata": {
        "id": "ImGJysRuPiAb",
        "colab": {
          "base_uri": "https://localhost:8080/"
        },
        "outputId": "c0207075-ea39-4d44-a499-f8386af94cb8"
      },
      "execution_count": 92,
      "outputs": [
        {
          "output_type": "stream",
          "name": "stdout",
          "text": [
            "Epoch 1/20\n",
            "563/563 [==============================] - 32s 56ms/step - loss: 0.4358 - accuracy: 0.8459 - val_loss: 0.5426 - val_accuracy: 0.8195\n",
            "Epoch 2/20\n",
            "563/563 [==============================] - 31s 55ms/step - loss: 0.4325 - accuracy: 0.8475 - val_loss: 0.5442 - val_accuracy: 0.8173\n",
            "Epoch 3/20\n",
            "563/563 [==============================] - 32s 56ms/step - loss: 0.4193 - accuracy: 0.8518 - val_loss: 0.5410 - val_accuracy: 0.8176\n",
            "Epoch 4/20\n",
            "563/563 [==============================] - 32s 56ms/step - loss: 0.4147 - accuracy: 0.8538 - val_loss: 0.5339 - val_accuracy: 0.8226\n",
            "Epoch 5/20\n",
            "563/563 [==============================] - 32s 56ms/step - loss: 0.4083 - accuracy: 0.8564 - val_loss: 0.5322 - val_accuracy: 0.8245\n",
            "Epoch 6/20\n",
            "563/563 [==============================] - 32s 56ms/step - loss: 0.3968 - accuracy: 0.8601 - val_loss: 0.5242 - val_accuracy: 0.8272\n",
            "Epoch 7/20\n",
            "563/563 [==============================] - 31s 55ms/step - loss: 0.3924 - accuracy: 0.8616 - val_loss: 0.5248 - val_accuracy: 0.8272\n",
            "Epoch 8/20\n",
            "563/563 [==============================] - 31s 55ms/step - loss: 0.3873 - accuracy: 0.8631 - val_loss: 0.5316 - val_accuracy: 0.8271\n",
            "Epoch 9/20\n",
            "563/563 [==============================] - 31s 55ms/step - loss: 0.3809 - accuracy: 0.8657 - val_loss: 0.5298 - val_accuracy: 0.8289\n",
            "Epoch 10/20\n",
            "563/563 [==============================] - 31s 55ms/step - loss: 0.3744 - accuracy: 0.8682 - val_loss: 0.5376 - val_accuracy: 0.8293\n",
            "Epoch 11/20\n",
            "563/563 [==============================] - 31s 55ms/step - loss: 0.3665 - accuracy: 0.8701 - val_loss: 0.5294 - val_accuracy: 0.8323\n",
            "Epoch 12/20\n",
            "563/563 [==============================] - 31s 55ms/step - loss: 0.3606 - accuracy: 0.8726 - val_loss: 0.5288 - val_accuracy: 0.8310\n",
            "Epoch 13/20\n",
            "563/563 [==============================] - 32s 56ms/step - loss: 0.3571 - accuracy: 0.8737 - val_loss: 0.5234 - val_accuracy: 0.8310\n",
            "Epoch 14/20\n",
            "563/563 [==============================] - 31s 56ms/step - loss: 0.3518 - accuracy: 0.8752 - val_loss: 0.5189 - val_accuracy: 0.8322\n",
            "Epoch 15/20\n",
            "563/563 [==============================] - 32s 56ms/step - loss: 0.3436 - accuracy: 0.8780 - val_loss: 0.5072 - val_accuracy: 0.8397\n",
            "Epoch 16/20\n",
            "563/563 [==============================] - 31s 55ms/step - loss: 0.3381 - accuracy: 0.8805 - val_loss: 0.5198 - val_accuracy: 0.8359\n",
            "Epoch 17/20\n",
            "563/563 [==============================] - 31s 54ms/step - loss: 0.3334 - accuracy: 0.8823 - val_loss: 0.5359 - val_accuracy: 0.8356\n",
            "Epoch 18/20\n",
            "563/563 [==============================] - 31s 55ms/step - loss: 0.3289 - accuracy: 0.8838 - val_loss: 0.5259 - val_accuracy: 0.8373\n",
            "Epoch 19/20\n",
            "563/563 [==============================] - 31s 55ms/step - loss: 0.3269 - accuracy: 0.8846 - val_loss: 0.5106 - val_accuracy: 0.8371\n",
            "Epoch 20/20\n",
            "563/563 [==============================] - 31s 54ms/step - loss: 0.3162 - accuracy: 0.8882 - val_loss: 0.5108 - val_accuracy: 0.8410\n"
          ]
        }
      ]
    },
    {
      "cell_type": "code",
      "source": [
        "history = model.fit(X_train, y_train, epochs=20, batch_size=500, validation_data=(X_test, y_test), callbacks=[mchp])"
      ],
      "metadata": {
        "colab": {
          "base_uri": "https://localhost:8080/"
        },
        "id": "MjhmeBFZ44HC",
        "outputId": "64621bd4-0281-42ef-8b90-0218c684b808"
      },
      "execution_count": 93,
      "outputs": [
        {
          "output_type": "stream",
          "name": "stdout",
          "text": [
            "Epoch 1/20\n",
            "563/563 [==============================] - 31s 55ms/step - loss: 0.3130 - accuracy: 0.8894 - val_loss: 0.5271 - val_accuracy: 0.8374\n",
            "Epoch 2/20\n",
            "563/563 [==============================] - 31s 55ms/step - loss: 0.3128 - accuracy: 0.8896 - val_loss: 0.5133 - val_accuracy: 0.8434\n",
            "Epoch 3/20\n",
            "563/563 [==============================] - 32s 56ms/step - loss: 0.3076 - accuracy: 0.8918 - val_loss: 0.5050 - val_accuracy: 0.8453\n",
            "Epoch 4/20\n",
            "563/563 [==============================] - 31s 55ms/step - loss: 0.2998 - accuracy: 0.8940 - val_loss: 0.5086 - val_accuracy: 0.8456\n",
            "Epoch 5/20\n",
            "563/563 [==============================] - 31s 55ms/step - loss: 0.3072 - accuracy: 0.8919 - val_loss: 0.5113 - val_accuracy: 0.8473\n",
            "Epoch 6/20\n",
            "563/563 [==============================] - 31s 55ms/step - loss: 0.2866 - accuracy: 0.8986 - val_loss: 0.5102 - val_accuracy: 0.8503\n",
            "Epoch 7/20\n",
            "563/563 [==============================] - 31s 55ms/step - loss: 0.2876 - accuracy: 0.8989 - val_loss: 0.5137 - val_accuracy: 0.8428\n",
            "Epoch 8/20\n",
            "563/563 [==============================] - 31s 55ms/step - loss: 0.2861 - accuracy: 0.8989 - val_loss: 0.5149 - val_accuracy: 0.8426\n",
            "Epoch 9/20\n",
            "563/563 [==============================] - 31s 55ms/step - loss: 0.2799 - accuracy: 0.9012 - val_loss: 0.5295 - val_accuracy: 0.8495\n",
            "Epoch 10/20\n",
            "563/563 [==============================] - 31s 55ms/step - loss: 0.2795 - accuracy: 0.9016 - val_loss: 0.5127 - val_accuracy: 0.8479\n",
            "Epoch 11/20\n",
            "563/563 [==============================] - 31s 55ms/step - loss: 0.2777 - accuracy: 0.9017 - val_loss: 0.5157 - val_accuracy: 0.8474\n",
            "Epoch 12/20\n",
            "563/563 [==============================] - 31s 55ms/step - loss: 0.2713 - accuracy: 0.9044 - val_loss: 0.5098 - val_accuracy: 0.8517\n",
            "Epoch 13/20\n",
            "563/563 [==============================] - 32s 57ms/step - loss: 0.2621 - accuracy: 0.9079 - val_loss: 0.5034 - val_accuracy: 0.8543\n",
            "Epoch 14/20\n",
            "563/563 [==============================] - 31s 55ms/step - loss: 0.2636 - accuracy: 0.9077 - val_loss: 0.5377 - val_accuracy: 0.8491\n",
            "Epoch 15/20\n",
            "563/563 [==============================] - 31s 55ms/step - loss: 0.2692 - accuracy: 0.9053 - val_loss: 0.5251 - val_accuracy: 0.8462\n",
            "Epoch 16/20\n",
            "563/563 [==============================] - 31s 55ms/step - loss: 0.2562 - accuracy: 0.9095 - val_loss: 0.5230 - val_accuracy: 0.8541\n",
            "Epoch 17/20\n",
            "563/563 [==============================] - 31s 55ms/step - loss: 0.2574 - accuracy: 0.9095 - val_loss: 0.5236 - val_accuracy: 0.8484\n",
            "Epoch 18/20\n",
            "563/563 [==============================] - 31s 55ms/step - loss: 0.2577 - accuracy: 0.9101 - val_loss: 0.5277 - val_accuracy: 0.8524\n",
            "Epoch 19/20\n",
            "563/563 [==============================] - 31s 55ms/step - loss: 0.2534 - accuracy: 0.9113 - val_loss: 0.5154 - val_accuracy: 0.8538\n",
            "Epoch 20/20\n",
            "563/563 [==============================] - 31s 55ms/step - loss: 0.2440 - accuracy: 0.9145 - val_loss: 0.5134 - val_accuracy: 0.8562\n"
          ]
        }
      ]
    },
    {
      "cell_type": "code",
      "source": [
        ""
      ],
      "metadata": {
        "id": "26t1n5tD7rrW"
      },
      "execution_count": null,
      "outputs": []
    }
  ]
}